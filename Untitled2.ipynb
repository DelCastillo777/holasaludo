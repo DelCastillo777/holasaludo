{
  "nbformat": 4,
  "nbformat_minor": 0,
  "metadata": {
    "colab": {
      "provenance": [],
      "authorship_tag": "ABX9TyNPkF7sGQp+Qjc0HPI3+gnq",
      "include_colab_link": true
    },
    "kernelspec": {
      "name": "python3",
      "display_name": "Python 3"
    },
    "language_info": {
      "name": "python"
    }
  },
  "cells": [
    {
      "cell_type": "markdown",
      "metadata": {
        "id": "view-in-github",
        "colab_type": "text"
      },
      "source": [
        "<a href=\"https://colab.research.google.com/github/DelCastillo777/holasaludo/blob/main/Untitled2.ipynb\" target=\"_parent\"><img src=\"https://colab.research.google.com/assets/colab-badge.svg\" alt=\"Open In Colab\"/></a>"
      ]
    },
    {
      "cell_type": "code",
      "execution_count": 4,
      "metadata": {
        "colab": {
          "base_uri": "https://localhost:8080/"
        },
        "id": "W8xSqpFLk3K4",
        "outputId": "d64daf41-59dc-453a-9335-996f4f3e6786"
      },
      "outputs": [
        {
          "output_type": "stream",
          "name": "stdout",
          "text": [
            "Unidades totales de maderas necesarias: 87\n",
            "Unidades totales de metales necesarias: 69\n",
            "Costo total de materiales: $2775\n"
          ]
        }
      ],
      "source": [
        "import numpy as np\n",
        "\n",
        "# Definir los requisitos de material para cada tipo de mueble como una matriz\n",
        "# Filas: Madera, Metal\n",
        "# Columnas: Mesa, Silla, Escritorio\n",
        "\n",
        "material_matrix = np.array([[3, 1, 4],\n",
        "                            [2, 1, 3]])\n",
        "\n",
        "# Define las cantidades del pedido para cada tipo de mueble como un vector\n",
        "# Elementos: Mesas, Sillas, Escritorios\n",
        "\n",
        "order_vector = np.array([10, 25, 8])\n",
        "\n",
        "\n",
        "# Calcular las unidades totales de madera y metal necesarias\n",
        "total_materiales = material_matrix @ order_vector\n",
        "\n",
        "# Define el costo unitario de la madera y el metal como un vector\n",
        "# Elementos: Costo de la madera, Costo del metal\n",
        "cost_vector = np.array([20, 15])\n",
        "\n",
        "# Calcular el costo total de los materiales\n",
        "total_cost = cost_vector @ total_materiales\n",
        "\n",
        "\n",
        "# Imprimir los resultados\n",
        "print(f\"Unidades totales de maderas necesarias: {total_materiales[0]}\")\n",
        "print(f\"Unidades totales de metales necesarias: {total_materiales[1]}\")\n",
        "print(f\"Costo total de materiales: ${total_cost}\")"
      ]
    }
  ]
}