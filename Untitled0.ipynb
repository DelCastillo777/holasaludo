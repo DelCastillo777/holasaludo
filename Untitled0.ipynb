{
  "nbformat": 4,
  "nbformat_minor": 0,
  "metadata": {
    "colab": {
      "provenance": [],
      "authorship_tag": "ABX9TyMOGpHF1BckzRe8Byl28nqj",
      "include_colab_link": true
    },
    "kernelspec": {
      "name": "python3",
      "display_name": "Python 3"
    },
    "language_info": {
      "name": "python"
    }
  },
  "cells": [
    {
      "cell_type": "markdown",
      "metadata": {
        "id": "view-in-github",
        "colab_type": "text"
      },
      "source": [
        "<a href=\"https://colab.research.google.com/github/DelCastillo777/holasaludo/blob/main/Untitled0.ipynb\" target=\"_parent\"><img src=\"https://colab.research.google.com/assets/colab-badge.svg\" alt=\"Open In Colab\"/></a>"
      ]
    },
    {
      "cell_type": "markdown",
      "source": [
        "#Realiza ejemplos del calculo de la media artitmetica con python"
      ],
      "metadata": {
        "id": "AYUCIUz_7u5a"
      }
    },
    {
      "cell_type": "code",
      "source": [
        "# Lista de numeros\n",
        "numeros = [7, 5, 9, 12, 4]\n",
        "\n",
        "# Sumar todos los numeros (usamos el ciclo for tradicional)\n",
        "suma = 0\n",
        "for n in numeros:\n",
        "  suma += n\n",
        "\n",
        "#contamos cuantos valores hay\n",
        "cantidad = len(numeros)\n",
        "\n",
        "media = suma / cantidad\n",
        "print(\"La media aritmetica es:\", media)"
      ],
      "metadata": {
        "colab": {
          "base_uri": "https://localhost:8080/"
        },
        "id": "JbZEVrVi7wRj",
        "outputId": "d83eb6a3-eeb6-4806-f8e6-8d59b172de03"
      },
      "execution_count": 5,
      "outputs": [
        {
          "output_type": "stream",
          "name": "stdout",
          "text": [
            "La media aritmetica es: 7.4\n"
          ]
        }
      ]
    }
  ]
}