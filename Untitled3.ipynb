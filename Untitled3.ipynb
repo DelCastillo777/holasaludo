{
  "nbformat": 4,
  "nbformat_minor": 0,
  "metadata": {
    "colab": {
      "provenance": [],
      "authorship_tag": "ABX9TyOang5fJSa2mKzcKW//IzOI",
      "include_colab_link": true
    },
    "kernelspec": {
      "name": "python3",
      "display_name": "Python 3"
    },
    "language_info": {
      "name": "python"
    }
  },
  "cells": [
    {
      "cell_type": "markdown",
      "metadata": {
        "id": "view-in-github",
        "colab_type": "text"
      },
      "source": [
        "<a href=\"https://colab.research.google.com/github/DelCastillo777/holasaludo/blob/main/Untitled3.ipynb\" target=\"_parent\"><img src=\"https://colab.research.google.com/assets/colab-badge.svg\" alt=\"Open In Colab\"/></a>"
      ]
    },
    {
      "cell_type": "code",
      "execution_count": 1,
      "metadata": {
        "id": "9-_1WSs5rJwY"
      },
      "outputs": [],
      "source": [
        "#.1 Importamos librerias necesarias\n",
        "import pandas as pd                                # librerias pandas para el manejo y analisis de datos pd solo es un alias\n",
        "import matplotlib.pyplot as plt                    # matplotlib.pyplot una librerias de vizualizacion, permite hacer graficos, histogrmas alias plt\n",
        "from sklearn.linear_model import LinearRegression  # sklearn una libreria de machine learnign, regrecion lineal"
      ]
    },
    {
      "cell_type": "code",
      "source": [
        "#.2 Crear los datos y el dataframe\n",
        "horas_estudio = [5,8,3,10,7,12,4,9,6,11,8,5,14,7,9,10,4,13,6,8]\n",
        "horas_final = [11,15,9,17,14,19,10,16,13,18,15,12,20,14,16,17,10,19,13,15]\n",
        "\n",
        "df = pd.DataFrame({\n",
        "    'Horas_estudio': horas_estudio,\n",
        "    'Nota_final': horas_final\n",
        "\n",
        "})"
      ],
      "metadata": {
        "id": "_n7uhCzFwrDd"
      },
      "execution_count": 20,
      "outputs": []
    },
    {
      "cell_type": "code",
      "source": [
        "#.3 Estadistica descriptiva\n",
        "print(\"Estadisictica descriptiva\")\n",
        "print(df.describe())\n",
        "\n",
        "print(\"Correlacion\")\n",
        "print(df.corr())"
      ],
      "metadata": {
        "colab": {
          "base_uri": "https://localhost:8080/"
        },
        "id": "lHV44nnTy7Ju",
        "outputId": "59d71f94-0c87-47e2-bc4c-21271005ac50"
      },
      "execution_count": 21,
      "outputs": [
        {
          "output_type": "stream",
          "name": "stdout",
          "text": [
            "Estadisictica descriptiva\n",
            "       Horas_estudio  Nota_final\n",
            "count      20.000000   20.000000\n",
            "mean        7.950000   14.650000\n",
            "std         3.086047    3.199918\n",
            "min         3.000000    9.000000\n",
            "25%         5.750000   12.750000\n",
            "50%         8.000000   15.000000\n",
            "75%        10.000000   17.000000\n",
            "max        14.000000   20.000000\n",
            "Correlacion\n",
            "               Horas_estudio  Nota_final\n",
            "Horas_estudio       1.000000    0.989464\n",
            "Nota_final          0.989464    1.000000\n"
          ]
        }
      ]
    },
    {
      "cell_type": "code",
      "source": [
        "# 4. Visualización: Scatter plot\n",
        "\n",
        "plt.scatter(df['Horas_estudio'], df['Nota_final'], color='blue', label='Datos reales')\n",
        "plt.xlabel('Horas de Estudio')\n",
        "plt.ylabel('Nota Final')\n",
        "plt.title('Relación entre Horas de Estudio y Nota Final')"
      ],
      "metadata": {
        "colab": {
          "base_uri": "https://localhost:8080/",
          "height": 489
        },
        "id": "QqhNKUb20j_E",
        "outputId": "cbb42871-17b2-4a13-dba5-8fa8c51ad9fe"
      },
      "execution_count": 22,
      "outputs": [
        {
          "output_type": "execute_result",
          "data": {
            "text/plain": [
              "Text(0.5, 1.0, 'Relación entre Horas de Estudio y Nota Final')"
            ]
          },
          "metadata": {},
          "execution_count": 22
        },
        {
          "output_type": "display_data",
          "data": {
            "text/plain": [
              "<Figure size 640x480 with 1 Axes>"
            ],
            "image/png": "[encoded data removed]"
          },
          "metadata": {}
        }
      ]
    },
    {
      "cell_type": "code",
      "source": [
        "# 5. Modelo de regresión lineal\n",
        "\n",
        "X = df[['Horas_estudio']]     # Variable independiente\n",
        "y = df['Nota_final']          # Variable dependiente\n",
        "\n",
        "modelo = LinearRegression()   # Crear el modelo\n",
        "modelo.fit(X, y)              # Entrenar el modelo\n",
        "\n",
        "df['Prediccion'] = modelo.predict(X)   # Agregar columna de predicción\n"
      ],
      "metadata": {
        "id": "8lu6rk_W1wnp"
      },
      "execution_count": 24,
      "outputs": []
    },
    {
      "cell_type": "code",
      "source": [
        "# 6. Visualización: Línea de regresión\n",
        "\n",
        "plt.plot(df['Horas_estudio'], df['Prediccion'], color='red', label='Regresión lineal')\n",
        "plt.legend()\n",
        "plt.show()"
      ],
      "metadata": {
        "colab": {
          "base_uri": "https://localhost:8080/",
          "height": 430
        },
        "id": "kD8UIrQ716yp",
        "outputId": "5813f258-4614-48f4-861f-f92a4da30b1e"
      },
      "execution_count": 25,
      "outputs": [
        {
          "output_type": "display_data",
          "data": {
            "text/plain": [
              "<Figure size 640x480 with 1 Axes>"
            ],
            "image/png": "[encoded data removed]"
          },
          "metadata": {}
        }
      ]
    },
    {
      "cell_type": "code",
      "source": [
        "# 7. Coeficientes del modelo\n",
        "\n",
        "print(\"\\n===== Coeficientes del Modelo =====\")\n",
        "print(f\"Pendiente (coeficiente): {modelo.coef_[0]:.2f}\")\n",
        "print(f\"Intercepto: {modelo.intercept_:.2f}\")"
      ],
      "metadata": {
        "colab": {
          "base_uri": "https://localhost:8080/"
        },
        "id": "XEceWqmp1_ag",
        "outputId": "d1cda33a-3e9c-4dfb-9f2e-c5c73079c395"
      },
      "execution_count": 26,
      "outputs": [
        {
          "output_type": "stream",
          "name": "stdout",
          "text": [
            "\n",
            "===== Coeficientes del Modelo =====\n",
            "Pendiente (coeficiente): 1.03\n",
            "Intercepto: 6.49\n"
          ]
        }
      ]
    },
    {
      "cell_type": "code",
      "source": [
        "# 8. Predicción para nuevas horas de estudio\n",
        "\n",
        "horas_nuevas = [[7], [12]]\n",
        "notas_predichas = modelo.predict(horas_nuevas)\n",
        "print(\"\\n===== Predicción de Nuevas Notas =====\")\n",
        "for horas, nota in zip(horas_nuevas, notas_predichas):\n",
        "    print(f'Nota esperada para {horas[0]} horas de estudio: {nota:.2f}')"
      ],
      "metadata": {
        "colab": {
          "base_uri": "https://localhost:8080/"
        },
        "id": "rtU5FO332CNX",
        "outputId": "2f86d1a6-9955-41d8-a421-da9ea934d431"
      },
      "execution_count": 27,
      "outputs": [
        {
          "output_type": "stream",
          "name": "stdout",
          "text": [
            "\n",
            "===== Predicción de Nuevas Notas =====\n",
            "Nota esperada para 7 horas de estudio: 13.68\n",
            "Nota esperada para 12 horas de estudio: 18.81\n"
          ]
        },
        {
          "output_type": "stream",
          "name": "stderr",
          "text": [
            "/usr/local/lib/python3.12/dist-packages/sklearn/utils/validation.py:2739: UserWarning: X does not have valid feature names, but LinearRegression was fitted with feature names\n",
            "  warnings.warn(\n"
          ]
        }
      ]
    }
  ]
}